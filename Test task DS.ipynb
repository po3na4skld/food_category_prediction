{
 "cells": [
  {
   "cell_type": "code",
   "execution_count": 65,
   "metadata": {},
   "outputs": [
    {
     "name": "stderr",
     "output_type": "stream",
     "text": [
      "[nltk_data] Downloading package stopwords to /home/kirill/nltk_data...\n",
      "[nltk_data]   Package stopwords is already up-to-date!\n"
     ]
    }
   ],
   "source": [
    "import pandas as pd\n",
    "import numpy as np\n",
    "import re\n",
    "\n",
    "import seaborn as sns\n",
    "import matplotlib.pyplot as plt\n",
    "\n",
    "from sklearn.model_selection import train_test_split, cross_val_score\n",
    "from sklearn.metrics import confusion_matrix, f1_score\n",
    "from sklearn.preprocessing import OneHotEncoder, StandardScaler, MinMaxScaler, LabelEncoder\n",
    "from sklearn.naive_bayes import ComplementNB\n",
    "\n",
    "\n",
    "from gensim.scripts.glove2word2vec import glove2word2vec\n",
    "from gensim.models.word2vec import Word2Vec, LineSentence\n",
    "from gensim.models import KeyedVectors\n",
    "\n",
    "import nltk\n",
    "from nltk.corpus import stopwords\n",
    "from nltk.stem import PorterStemmer\n",
    "nltk.download('stopwords')\n",
    "\n",
    "from textblob import TextBlob"
   ]
  },
  {
   "cell_type": "markdown",
   "metadata": {},
   "source": [
    "### Load and inspect dataset\n",
    "In this section I'll load the data and inspect for basic info such as missing data, categorical features etc."
   ]
  },
  {
   "cell_type": "code",
   "execution_count": 66,
   "metadata": {},
   "outputs": [
    {
     "data": {
      "text/html": [
       "<div>\n",
       "<style scoped>\n",
       "    .dataframe tbody tr th:only-of-type {\n",
       "        vertical-align: middle;\n",
       "    }\n",
       "\n",
       "    .dataframe tbody tr th {\n",
       "        vertical-align: top;\n",
       "    }\n",
       "\n",
       "    .dataframe thead th {\n",
       "        text-align: right;\n",
       "    }\n",
       "</style>\n",
       "<table border=\"1\" class=\"dataframe\">\n",
       "  <thead>\n",
       "    <tr style=\"text-align: right;\">\n",
       "      <th></th>\n",
       "      <th>Unnamed: 0</th>\n",
       "      <th>id</th>\n",
       "      <th>case_size</th>\n",
       "      <th>description</th>\n",
       "      <th>our_category</th>\n",
       "      <th>pack_desc</th>\n",
       "      <th>wholesale_price</th>\n",
       "      <th>initcat</th>\n",
       "    </tr>\n",
       "  </thead>\n",
       "  <tbody>\n",
       "    <tr>\n",
       "      <th>38263</th>\n",
       "      <td>38263</td>\n",
       "      <td>730551</td>\n",
       "      <td>6</td>\n",
       "      <td>Nestle Frosted Shreddies PM £2.59</td>\n",
       "      <td>Cereals,rice, their products</td>\n",
       "      <td>500g</td>\n",
       "      <td>11.95</td>\n",
       "      <td>Cereals &amp; Muesli</td>\n",
       "    </tr>\n",
       "    <tr>\n",
       "      <th>50058</th>\n",
       "      <td>50058</td>\n",
       "      <td>895342</td>\n",
       "      <td>1</td>\n",
       "      <td>Ripple Coffee Cups 16oz Black</td>\n",
       "      <td>Housing</td>\n",
       "      <td>Pack of 500</td>\n",
       "      <td>37.99</td>\n",
       "      <td>DISPOSABLES</td>\n",
       "    </tr>\n",
       "    <tr>\n",
       "      <th>26633</th>\n",
       "      <td>26633</td>\n",
       "      <td>144768</td>\n",
       "      <td>12</td>\n",
       "      <td>CHUPA CHUPS BUBBLY COTTON GUM</td>\n",
       "      <td>Sweets and sugars</td>\n",
       "      <td>11G</td>\n",
       "      <td>3.09</td>\n",
       "      <td>Confectionery - Mints &amp; Gum</td>\n",
       "    </tr>\n",
       "    <tr>\n",
       "      <th>25855</th>\n",
       "      <td>25855</td>\n",
       "      <td>143990</td>\n",
       "      <td>12</td>\n",
       "      <td>MILLIONS APPLE BAG PM 1.00</td>\n",
       "      <td>Sweets and sugars</td>\n",
       "      <td>100G</td>\n",
       "      <td>7.15</td>\n",
       "      <td>Confectionery - Sweets</td>\n",
       "    </tr>\n",
       "    <tr>\n",
       "      <th>16347</th>\n",
       "      <td>16347</td>\n",
       "      <td>93503</td>\n",
       "      <td>7</td>\n",
       "      <td>Kelloggs Bran Flakes 7x500g</td>\n",
       "      <td>Cereals,rice, their products</td>\n",
       "      <td>500g</td>\n",
       "      <td>17.95</td>\n",
       "      <td>Breakfast Cereals</td>\n",
       "    </tr>\n",
       "  </tbody>\n",
       "</table>\n",
       "</div>"
      ],
      "text/plain": [
       "       Unnamed: 0      id case_size                        description  \\\n",
       "38263       38263  730551         6  Nestle Frosted Shreddies PM £2.59   \n",
       "50058       50058  895342         1      Ripple Coffee Cups 16oz Black   \n",
       "26633       26633  144768        12      CHUPA CHUPS BUBBLY COTTON GUM   \n",
       "25855       25855  143990        12         MILLIONS APPLE BAG PM 1.00   \n",
       "16347       16347   93503         7        Kelloggs Bran Flakes 7x500g   \n",
       "\n",
       "                       our_category    pack_desc  wholesale_price  \\\n",
       "38263  Cereals,rice, their products         500g            11.95   \n",
       "50058                       Housing  Pack of 500            37.99   \n",
       "26633             Sweets and sugars          11G             3.09   \n",
       "25855             Sweets and sugars         100G             7.15   \n",
       "16347  Cereals,rice, their products         500g            17.95   \n",
       "\n",
       "                           initcat  \n",
       "38263             Cereals & Muesli  \n",
       "50058                  DISPOSABLES  \n",
       "26633  Confectionery - Mints & Gum  \n",
       "25855       Confectionery - Sweets  \n",
       "16347            Breakfast Cereals  "
      ]
     },
     "execution_count": 66,
     "metadata": {},
     "output_type": "execute_result"
    }
   ],
   "source": [
    "data_file = 'test_task_DS.xlsx'\n",
    "\n",
    "df = pd.read_excel(data_file)\n",
    "df.sample(5)"
   ]
  },
  {
   "cell_type": "code",
   "execution_count": 67,
   "metadata": {},
   "outputs": [
    {
     "name": "stdout",
     "output_type": "stream",
     "text": [
      "<class 'pandas.core.frame.DataFrame'>\n",
      "RangeIndex: 86921 entries, 0 to 86920\n",
      "Data columns (total 8 columns):\n",
      "Unnamed: 0         86921 non-null int64\n",
      "id                 86921 non-null int64\n",
      "case_size          86776 non-null object\n",
      "description        86920 non-null object\n",
      "our_category       86921 non-null object\n",
      "pack_desc          86749 non-null object\n",
      "wholesale_price    86921 non-null float64\n",
      "initcat            86921 non-null object\n",
      "dtypes: float64(1), int64(2), object(5)\n",
      "memory usage: 5.3+ MB\n"
     ]
    }
   ],
   "source": [
    "df.info()"
   ]
  },
  {
   "cell_type": "code",
   "execution_count": 68,
   "metadata": {},
   "outputs": [
    {
     "data": {
      "text/html": [
       "<div>\n",
       "<style scoped>\n",
       "    .dataframe tbody tr th:only-of-type {\n",
       "        vertical-align: middle;\n",
       "    }\n",
       "\n",
       "    .dataframe tbody tr th {\n",
       "        vertical-align: top;\n",
       "    }\n",
       "\n",
       "    .dataframe thead th {\n",
       "        text-align: right;\n",
       "    }\n",
       "</style>\n",
       "<table border=\"1\" class=\"dataframe\">\n",
       "  <thead>\n",
       "    <tr style=\"text-align: right;\">\n",
       "      <th></th>\n",
       "      <th>Unnamed: 0</th>\n",
       "      <th>id</th>\n",
       "      <th>wholesale_price</th>\n",
       "    </tr>\n",
       "  </thead>\n",
       "  <tbody>\n",
       "    <tr>\n",
       "      <th>count</th>\n",
       "      <td>86921.000000</td>\n",
       "      <td>86921.000000</td>\n",
       "      <td>86921.000000</td>\n",
       "    </tr>\n",
       "    <tr>\n",
       "      <th>mean</th>\n",
       "      <td>48883.934573</td>\n",
       "      <td>409065.605124</td>\n",
       "      <td>35.645962</td>\n",
       "    </tr>\n",
       "    <tr>\n",
       "      <th>std</th>\n",
       "      <td>33113.449066</td>\n",
       "      <td>349166.698226</td>\n",
       "      <td>177.920812</td>\n",
       "    </tr>\n",
       "    <tr>\n",
       "      <th>min</th>\n",
       "      <td>0.000000</td>\n",
       "      <td>13241.000000</td>\n",
       "      <td>0.000000</td>\n",
       "    </tr>\n",
       "    <tr>\n",
       "      <th>25%</th>\n",
       "      <td>21730.000000</td>\n",
       "      <td>75083.000000</td>\n",
       "      <td>5.990000</td>\n",
       "    </tr>\n",
       "    <tr>\n",
       "      <th>50%</th>\n",
       "      <td>43460.000000</td>\n",
       "      <td>315524.000000</td>\n",
       "      <td>10.830000</td>\n",
       "    </tr>\n",
       "    <tr>\n",
       "      <th>75%</th>\n",
       "      <td>73969.000000</td>\n",
       "      <td>767429.000000</td>\n",
       "      <td>20.190000</td>\n",
       "    </tr>\n",
       "    <tr>\n",
       "      <th>max</th>\n",
       "      <td>121249.000000</td>\n",
       "      <td>909190.000000</td>\n",
       "      <td>9999.000000</td>\n",
       "    </tr>\n",
       "  </tbody>\n",
       "</table>\n",
       "</div>"
      ],
      "text/plain": [
       "          Unnamed: 0             id  wholesale_price\n",
       "count   86921.000000   86921.000000     86921.000000\n",
       "mean    48883.934573  409065.605124        35.645962\n",
       "std     33113.449066  349166.698226       177.920812\n",
       "min         0.000000   13241.000000         0.000000\n",
       "25%     21730.000000   75083.000000         5.990000\n",
       "50%     43460.000000  315524.000000        10.830000\n",
       "75%     73969.000000  767429.000000        20.190000\n",
       "max    121249.000000  909190.000000      9999.000000"
      ]
     },
     "execution_count": 68,
     "metadata": {},
     "output_type": "execute_result"
    }
   ],
   "source": [
    "df.describe()"
   ]
  },
  {
   "cell_type": "code",
   "execution_count": 69,
   "metadata": {},
   "outputs": [],
   "source": [
    "df.drop(['Unnamed: 0'], axis=1, inplace=True)  # drop this column because of useless"
   ]
  },
  {
   "cell_type": "markdown",
   "metadata": {},
   "source": [
    "### EDA\n",
    "In this section I'll inspect data with visualization techniques"
   ]
  },
  {
   "cell_type": "code",
   "execution_count": 70,
   "metadata": {},
   "outputs": [
    {
     "data": {
      "image/png": "[encoded data removed]",
      "text/plain": [
       "<Figure size 720x720 with 1 Axes>"
      ]
     },
     "metadata": {
      "needs_background": "light"
     },
     "output_type": "display_data"
    }
   ],
   "source": [
    "# I'll start from a label column our_category\n",
    "value_counts = df['our_category'].value_counts().values\n",
    "\n",
    "_ = plt.figure(figsize=(10, 10))\n",
    "sns.distplot(value_counts)\n",
    "plt.show()\n",
    "\n",
    "# here i saw that our data are unbalanced"
   ]
  },
  {
   "cell_type": "code",
   "execution_count": 71,
   "metadata": {},
   "outputs": [
    {
     "data": {
      "image/png": "[encoded data removed]",
      "text/plain": [
       "<Figure size 720x720 with 1 Axes>"
      ]
     },
     "metadata": {
      "needs_background": "light"
     },
     "output_type": "display_data"
    }
   ],
   "source": [
    "# now let's see the distribution of initcat columns\n",
    "\n",
    "value_counts = df['initcat'].value_counts()\n",
    "\n",
    "_ = plt.figure(figsize=(10, 10))\n",
    "sns.distplot(value_counts)\n",
    "plt.show()"
   ]
  },
  {
   "cell_type": "code",
   "execution_count": 72,
   "metadata": {},
   "outputs": [
    {
     "name": "stdout",
     "output_type": "stream",
     "text": [
      "{'Beverages': 0, 'Housing': 1, 'Sweets and sugars': 2, 'Meat,eggs and their products': 3, 'Vegetables and their product': 4, 'Ready meals': 5, 'Spices and condiments': 6, 'Fruits and their products': 7, 'Cereals,rice, their products': 8, 'Milk and milk products': 9, 'Tobacco': 10, 'Fish and shellfish': 11, 'Roots, tubers, plantains and': 12, 'Fats and oils': 13, 'Legumes and their products': 14, 'Seeds, nuts and their produc': 15, 'Foods for particular uses': 16, 'Stationery': 17, 'Food additives': 18, 'Food supplements and similar': 19, 'Fats ans oils': 20}\n"
     ]
    },
    {
     "data": {
      "text/plain": [
       "Text(0, 0.5, 'Price')"
      ]
     },
     "execution_count": 72,
     "metadata": {},
     "output_type": "execute_result"
    },
    {
     "data": {
      "image/png": "[encoded data removed]",
      "text/plain": [
       "<Figure size 720x720 with 1 Axes>"
      ]
     },
     "metadata": {
      "needs_background": "light"
     },
     "output_type": "display_data"
    }
   ],
   "source": [
    "# price by category here we see some outliers that should be deleted from data\n",
    "number_of_categories = dict(zip(df['our_category'].value_counts().index, range(len(df['our_category'].value_counts()))))\n",
    "colors = np.random.rand(len(number_of_categories))\n",
    "print(number_of_categories)\n",
    "color = []\n",
    "for i in df['our_category'].values:\n",
    "    color.append(colors[number_of_categories[i]])\n",
    "\n",
    "_ = plt.figure(figsize=(10, 10))\n",
    "plt.scatter(x=range(len(df['wholesale_price'])), y=df['wholesale_price'].values, c=color)\n",
    "plt.ylabel('Price')\n",
    "\n",
    "# I wont delete those records because I'll use only text columns"
   ]
  },
  {
   "cell_type": "markdown",
   "metadata": {},
   "source": [
    "### Dealing with text data\n",
    "I decided to process text data into vector representation for that I need to do some processing steps such as lowering, deleting punctuation, deleting most/least frequent words and stemming."
   ]
  },
  {
   "cell_type": "code",
   "execution_count": 73,
   "metadata": {},
   "outputs": [],
   "source": [
    "glove_input_file = 'glove.6B.100d.txt'\n",
    "word2vec_output_file = 'glove.6B.100d.txt.word2vec'\n",
    "glove2word2vec(glove_input_file, word2vec_output_file)\n",
    "\n",
    "word2vec_model = Word2Vec(size=100, min_count=1)"
   ]
  },
  {
   "cell_type": "code",
   "execution_count": 74,
   "metadata": {},
   "outputs": [],
   "source": [
    "stop_words = stopwords.words('english')\n",
    "stemmer = PorterStemmer()\n",
    "\n",
    "def get_txt(s):\n",
    "    if s.isdecimal():\n",
    "        return 'count'\n",
    "    reg_ex = r\"[a-zA-z]*\"\n",
    "    match = re.findall(reg_ex, s)\n",
    "    while '' in match:\n",
    "        match.remove('')\n",
    "    return ' '.join(x.lower() for x in match)"
   ]
  },
  {
   "cell_type": "code",
   "execution_count": 75,
   "metadata": {},
   "outputs": [
    {
     "name": "stdout",
     "output_type": "stream",
     "text": [
      "(86921, 7)\n",
      "Done 1/7\n",
      "Done 2/7\n",
      "Done 3/7\n",
      "Done 4/7\n",
      "Done 5/7\n",
      "Done 6/7\n"
     ]
    },
    {
     "name": "stderr",
     "output_type": "stream",
     "text": [
      "/home/kirill/.local/lib/python3.6/site-packages/ipykernel_launcher.py:30: DeprecationWarning: Call to deprecated `iter` (Attribute will be removed in 4.0.0, use self.epochs instead).\n",
      "/home/kirill/.local/lib/python3.6/site-packages/ipykernel_launcher.py:32: DeprecationWarning: Call to deprecated `__getitem__` (Method will be removed in 4.0.0, use self.wv.__getitem__() instead).\n"
     ]
    },
    {
     "name": "stdout",
     "output_type": "stream",
     "text": [
      "Done 7/7\n",
      "(86740,)\n"
     ]
    }
   ],
   "source": [
    "df['description'] = df['description'].astype('str')\n",
    "print(df.shape)\n",
    "\n",
    "df['description'] = df['description'].apply(lambda x: \" \".join(i.lower() for i in x.split()))\n",
    "print('Done 1/7')\n",
    "\n",
    "df['description'] = df['description'].str.replace('[^\\w\\s]', '')\n",
    "print('Done 2/7')\n",
    "\n",
    "df['description'] = df['description'].apply(lambda x: \" \".join(i for i in x.split() if i not in stop_words))\n",
    "print('Done 3/7')\n",
    "\n",
    "most_freq = list(pd.Series(\" \".join(df['description']).split()).value_counts()[:10].index)\n",
    "least_freq = list(pd.Series(\" \".join(df['description']).split()).value_counts()[-10:].index)\n",
    "\n",
    "df['description'] = df['description'].apply(lambda x: \" \".join(i for i in x.split() if i not in most_freq))\n",
    "print('Done 4/7')\n",
    "\n",
    "df['description'] = df['description'].apply(lambda x: \" \".join(i for i in x.split() if i not in least_freq))\n",
    "print('Done 5/7')\n",
    "\n",
    "df['description'] = df['description'].apply(lambda x: [stemmer.stem(word) for word in x.split()])\n",
    "print('Done 6/7')\n",
    "\n",
    "word2vec_model.build_vocab(df['description'].values)\n",
    "vocab_len = word2vec_model.corpus_count\n",
    "keyed_vectors = KeyedVectors.load_word2vec_format(word2vec_output_file, binary=False)\n",
    "word2vec_model.build_vocab([list(keyed_vectors.vocab.keys())], update=True)\n",
    "word2vec_model.intersect_word2vec_format(word2vec_output_file, binary=False, lockf=1.0)\n",
    "word2vec_model.train(df['description'].values, total_examples=vocab_len, epochs=word2vec_model.iter)\n",
    "\n",
    "df['desc_word2vec'] = df['description'].apply(lambda x: np.sum([word2vec_model[i] for i in x], axis=0) / len(x))\n",
    "print('Done 7/7')\n",
    "\n",
    "df = df.dropna()\n",
    "print(df['desc_word2vec'].shape)"
   ]
  },
  {
   "cell_type": "code",
   "execution_count": 76,
   "metadata": {
    "scrolled": true
   },
   "outputs": [
    {
     "name": "stdout",
     "output_type": "stream",
     "text": [
      "(86740, 8)\n",
      "Done 1/4\n",
      "Done 2/4\n",
      "Done 3/4\n"
     ]
    },
    {
     "name": "stderr",
     "output_type": "stream",
     "text": [
      "/home/kirill/.local/lib/python3.6/site-packages/ipykernel_launcher.py:14: DeprecationWarning: Call to deprecated `iter` (Attribute will be removed in 4.0.0, use self.epochs instead).\n",
      "  \n",
      "W0816 13:14:46.110510 140671502632768 base_any2vec.py:1182] Effective 'alpha' higher than previous training cycles\n",
      "/home/kirill/.local/lib/python3.6/site-packages/ipykernel_launcher.py:16: DeprecationWarning: Call to deprecated `__getitem__` (Method will be removed in 4.0.0, use self.wv.__getitem__() instead).\n",
      "  app.launch_new_instance()\n"
     ]
    },
    {
     "name": "stdout",
     "output_type": "stream",
     "text": [
      "Done 4/4\n",
      "(85649,)\n"
     ]
    }
   ],
   "source": [
    "df['pack_desc'] = df['pack_desc'].astype('str')\n",
    "print(df.shape)\n",
    "\n",
    "df['pack_desc'] = df['pack_desc'].apply(lambda x: get_txt(str(x)))\n",
    "print('Done 1/4')\n",
    "\n",
    "df['pack_desc'] = df['pack_desc'].str.replace('[^\\w\\s]', '')\n",
    "print('Done 2/4')\n",
    "\n",
    "df['pack_desc'] = df['pack_desc'].apply(lambda x: [stemmer.stem(word) for word in x.split()])\n",
    "print('Done 3/4')\n",
    "\n",
    "word2vec_model.build_vocab(df['pack_desc'].values, update=True)\n",
    "word2vec_model.train(df['pack_desc'].values, total_examples=len(df['pack_desc']), epochs=word2vec_model.iter)\n",
    "\n",
    "df['pack_desc_word2vec'] = df['pack_desc'].apply(lambda x: np.sum([word2vec_model[i] for i in x], axis=0) / len(x))\n",
    "print('Done 4/4')\n",
    "\n",
    "df = df.dropna()\n",
    "print(df['pack_desc_word2vec'].shape)"
   ]
  },
  {
   "cell_type": "markdown",
   "metadata": {},
   "source": [
    "### Preapring inputs and labels for training"
   ]
  },
  {
   "cell_type": "code",
   "execution_count": 77,
   "metadata": {
    "scrolled": true
   },
   "outputs": [
    {
     "name": "stdout",
     "output_type": "stream",
     "text": [
      "(77084, 100) (8565, 100)\n"
     ]
    }
   ],
   "source": [
    "x_data = np.empty((len(df), 100), dtype=np.float32)\n",
    "\n",
    "for i, val in enumerate(df[['desc_word2vec', 'pack_desc_word2vec']].values):\n",
    "    x_data[i] = np.sum(val, axis=0)\n",
    "\n",
    "y_data = df[['our_category', 'id']]\n",
    "\n",
    "# scaling data\n",
    "scaler = StandardScaler()\n",
    "x_data = scaler.fit_transform(x_data)\n",
    "\n",
    "# splitting into train-test sets\n",
    "train_x, test_x, train_y, test_y = train_test_split(x_data, y_data, test_size=0.1)\n",
    "\n",
    "train_indices, test_indices = train_y['id'].values, test_y['id'].values\n",
    "train_y, test_y = train_y['our_category'].values, test_y['our_category'].values\n",
    "\n",
    "print(train_x.shape, test_x.shape)"
   ]
  },
  {
   "cell_type": "code",
   "execution_count": 78,
   "metadata": {},
   "outputs": [],
   "source": [
    "# encoding labels into one-hot vectors\n",
    "encoder = OneHotEncoder()\n",
    "\n",
    "enc_data = [[i] for i in number_of_categories.keys()]\n",
    "encoder.fit(enc_data)\n",
    "\n",
    "train_y = encoder.transform(train_y.reshape(-1, 1)).toarray()\n",
    "test_y = encoder.transform(test_y.reshape(-1, 1)).toarray()"
   ]
  },
  {
   "cell_type": "code",
   "execution_count": 79,
   "metadata": {},
   "outputs": [
    {
     "name": "stdout",
     "output_type": "stream",
     "text": [
      "False\n",
      "False\n"
     ]
    }
   ],
   "source": [
    "print(np.isnan(train_y).any())\n",
    "print(np.isnan(train_x).any())"
   ]
  },
  {
   "cell_type": "code",
   "execution_count": 80,
   "metadata": {},
   "outputs": [
    {
     "name": "stdout",
     "output_type": "stream",
     "text": [
      "0.20758902510215996\n",
      "0.01719037029875278\n"
     ]
    },
    {
     "name": "stderr",
     "output_type": "stream",
     "text": [
      "/home/kirill/.local/lib/python3.6/site-packages/sklearn/metrics/classification.py:1143: UndefinedMetricWarning: F-score is ill-defined and being set to 0.0 in labels with no predicted samples.\n",
      "  'precision', 'predicted', average, warn_for)\n"
     ]
    }
   ],
   "source": [
    "# baseline will be always predicting the 1st class\n",
    "y_pred = np.zeros(len(test_y))\n",
    "\n",
    "print(f1_score(np.argmax(test_y, axis=1), y_pred, average='micro'))\n",
    "print(f1_score(np.argmax(test_y, axis=1), y_pred, average='macro'))"
   ]
  },
  {
   "cell_type": "code",
   "execution_count": 98,
   "metadata": {},
   "outputs": [],
   "source": [
    "# i decided to use dense network for word2vec inputs\n",
    "\n",
    "from keras.models import Model\n",
    "from keras.layers import Dense, Input, Dropout, LeakyReLU, ReLU\n",
    "from keras.optimizers import Adam\n",
    "from keras.regularizers import l2\n",
    "from keras.callbacks import ReduceLROnPlateau, ModelCheckpoint\n",
    "\n",
    "reg = l2(0.0002)\n",
    "prob = 0.2\n",
    "\n",
    "inpt = Input(shape=(100, ))\n",
    "dense = Dense(100)(inpt)\n",
    "relu = ReLU()(dense)\n",
    "\n",
    "dense = Dense(1024, kernel_regularizer=reg)(relu)\n",
    "relu = ReLU()(dense)\n",
    "\n",
    "do = Dropout(prob)(relu)\n",
    "dense = Dense(1024, kernel_regularizer=reg)(do)\n",
    "relu = ReLU()(dense)\n",
    "\n",
    "do = Dropout(prob)(relu)\n",
    "dense = Dense(1024, kernel_regularizer=reg)(do)\n",
    "relu = ReLU()(dense)\n",
    "\n",
    "do = Dropout(prob)(relu)\n",
    "dense = Dense(1024, kernel_regularizer=reg)(do)\n",
    "relu = ReLU()(dense)\n",
    "\n",
    "do = Dropout(prob)(relu)\n",
    "dense = Dense(1024, kernel_regularizer=reg)(do)\n",
    "relu = ReLU()(dense)\n",
    "\n",
    "do = Dropout(prob)(relu)\n",
    "dense = Dense(1024, kernel_regularizer=reg)(do)\n",
    "relu = ReLU()(dense)\n",
    "\n",
    "\n",
    "outs = Dense(21, activation='softmax')(relu)\n",
    "\n",
    "model = Model(inpt, outs)"
   ]
  },
  {
   "cell_type": "code",
   "execution_count": 100,
   "metadata": {
    "scrolled": false
   },
   "outputs": [
    {
     "name": "stdout",
     "output_type": "stream",
     "text": [
      "Train on 77084 samples, validate on 8565 samples\n",
      "Epoch 1/30\n",
      "77084/77084 [==============================] - 91s 1ms/step - loss: 0.5846 - acc: 0.8954 - val_loss: 0.6680 - val_acc: 0.8764\n",
      "Epoch 2/30\n",
      "77084/77084 [==============================] - 84s 1ms/step - loss: 0.5355 - acc: 0.9067 - val_loss: 0.6471 - val_acc: 0.8802\n",
      "Epoch 3/30\n",
      "77084/77084 [==============================] - 84s 1ms/step - loss: 0.5099 - acc: 0.9125 - val_loss: 0.6372 - val_acc: 0.8822\n",
      "Epoch 4/30\n",
      "77084/77084 [==============================] - 79s 1ms/step - loss: 0.4936 - acc: 0.9143 - val_loss: 0.6248 - val_acc: 0.8879\n",
      "Epoch 5/30\n",
      "77084/77084 [==============================] - 87s 1ms/step - loss: 0.4754 - acc: 0.9193 - val_loss: 0.6159 - val_acc: 0.8862\n",
      "Epoch 6/30\n",
      "77084/77084 [==============================] - 91s 1ms/step - loss: 0.4617 - acc: 0.9211 - val_loss: 0.6095 - val_acc: 0.8890\n",
      "Epoch 7/30\n",
      "77084/77084 [==============================] - 81s 1ms/step - loss: 0.4486 - acc: 0.9242 - val_loss: 0.6058 - val_acc: 0.8904\n",
      "Epoch 8/30\n",
      "77084/77084 [==============================] - 73s 941us/step - loss: 0.4380 - acc: 0.9262 - val_loss: 0.5961 - val_acc: 0.8908\n",
      "Epoch 9/30\n",
      "77084/77084 [==============================] - 70s 902us/step - loss: 0.4270 - acc: 0.9284 - val_loss: 0.5982 - val_acc: 0.8911\n",
      "Epoch 10/30\n",
      "77084/77084 [==============================] - 72s 938us/step - loss: 0.4172 - acc: 0.9315 - val_loss: 0.5892 - val_acc: 0.8936\n",
      "Epoch 11/30\n",
      "77084/77084 [==============================] - 88s 1ms/step - loss: 0.4082 - acc: 0.9329 - val_loss: 0.5877 - val_acc: 0.8954\n",
      "Epoch 12/30\n",
      "77084/77084 [==============================] - 93s 1ms/step - loss: 0.4013 - acc: 0.9347 - val_loss: 0.5805 - val_acc: 0.8968\n",
      "Epoch 13/30\n",
      "77084/77084 [==============================] - 88s 1ms/step - loss: 0.3925 - acc: 0.9366 - val_loss: 0.5811 - val_acc: 0.8976\n",
      "Epoch 14/30\n",
      "77084/77084 [==============================] - 88s 1ms/step - loss: 0.3838 - acc: 0.9384 - val_loss: 0.5834 - val_acc: 0.8967\n",
      "Epoch 15/30\n",
      "77084/77084 [==============================] - 88s 1ms/step - loss: 0.3804 - acc: 0.9394 - val_loss: 0.5730 - val_acc: 0.8985\n",
      "Epoch 16/30\n",
      "77084/77084 [==============================] - 86s 1ms/step - loss: 0.3727 - acc: 0.9411 - val_loss: 0.5692 - val_acc: 0.9015\n",
      "Epoch 17/30\n",
      "77084/77084 [==============================] - 87s 1ms/step - loss: 0.3653 - acc: 0.9431 - val_loss: 0.5717 - val_acc: 0.9031\n",
      "Epoch 18/30\n",
      "77084/77084 [==============================] - 87s 1ms/step - loss: 0.3600 - acc: 0.9440 - val_loss: 0.5707 - val_acc: 0.9032\n",
      "Epoch 19/30\n",
      "77084/77084 [==============================] - 87s 1ms/step - loss: 0.3524 - acc: 0.9455 - val_loss: 0.5798 - val_acc: 0.9004\n",
      "Epoch 20/30\n",
      "77084/77084 [==============================] - 87s 1ms/step - loss: 0.3480 - acc: 0.9469 - val_loss: 0.5742 - val_acc: 0.9001\n",
      "Epoch 21/30\n",
      "77084/77084 [==============================] - 88s 1ms/step - loss: 0.3417 - acc: 0.9478 - val_loss: 0.5746 - val_acc: 0.9018\n",
      "Epoch 22/30\n",
      "77084/77084 [==============================] - 90s 1ms/step - loss: 0.3250 - acc: 0.9537 - val_loss: 0.5714 - val_acc: 0.9052\n",
      "Epoch 23/30\n",
      "77084/77084 [==============================] - 88s 1ms/step - loss: 0.3180 - acc: 0.9550 - val_loss: 0.5727 - val_acc: 0.9044\n",
      "Epoch 24/30\n",
      "77084/77084 [==============================] - 87s 1ms/step - loss: 0.3148 - acc: 0.9562 - val_loss: 0.5724 - val_acc: 0.9044\n",
      "Epoch 25/30\n",
      "77084/77084 [==============================] - 88s 1ms/step - loss: 0.3130 - acc: 0.9563 - val_loss: 0.5746 - val_acc: 0.9051\n",
      "Epoch 26/30\n",
      "77084/77084 [==============================] - 91s 1ms/step - loss: 0.3122 - acc: 0.9559 - val_loss: 0.5747 - val_acc: 0.9048\n",
      "Epoch 27/30\n",
      " 2048/77084 [..............................] - ETA: 1:25 - loss: 0.2952 - acc: 0.9614"
     ]
    },
    {
     "ename": "KeyboardInterrupt",
     "evalue": "",
     "output_type": "error",
     "traceback": [
      "\u001b[0;31m---------------------------------------------------------------------------\u001b[0m",
      "\u001b[0;31mKeyboardInterrupt\u001b[0m                         Traceback (most recent call last)",
      "\u001b[0;32m<ipython-input-100-4d9dc70a546c>\u001b[0m in \u001b[0;36m<module>\u001b[0;34m\u001b[0m\n\u001b[1;32m      5\u001b[0m \u001b[0;34m\u001b[0m\u001b[0m\n\u001b[1;32m      6\u001b[0m \u001b[0mmodel\u001b[0m\u001b[0;34m.\u001b[0m\u001b[0mcompile\u001b[0m\u001b[0;34m(\u001b[0m\u001b[0moptimizer\u001b[0m\u001b[0;34m=\u001b[0m\u001b[0mAdam\u001b[0m\u001b[0;34m(\u001b[0m\u001b[0mlr\u001b[0m\u001b[0;34m=\u001b[0m\u001b[0;36m0.0001\u001b[0m\u001b[0;34m)\u001b[0m\u001b[0;34m,\u001b[0m \u001b[0mloss\u001b[0m\u001b[0;34m=\u001b[0m\u001b[0;34m'categorical_crossentropy'\u001b[0m\u001b[0;34m,\u001b[0m \u001b[0mmetrics\u001b[0m\u001b[0;34m=\u001b[0m\u001b[0;34m[\u001b[0m\u001b[0;34m'acc'\u001b[0m\u001b[0;34m]\u001b[0m\u001b[0;34m)\u001b[0m\u001b[0;34m\u001b[0m\u001b[0;34m\u001b[0m\u001b[0m\n\u001b[0;32m----> 7\u001b[0;31m \u001b[0mhistory\u001b[0m \u001b[0;34m=\u001b[0m \u001b[0mmodel\u001b[0m\u001b[0;34m.\u001b[0m\u001b[0mfit\u001b[0m\u001b[0;34m(\u001b[0m\u001b[0mtrain_x\u001b[0m\u001b[0;34m,\u001b[0m \u001b[0mtrain_y\u001b[0m\u001b[0;34m,\u001b[0m \u001b[0mbatch_size\u001b[0m\u001b[0;34m=\u001b[0m\u001b[0;36m128\u001b[0m\u001b[0;34m,\u001b[0m \u001b[0mepochs\u001b[0m\u001b[0;34m=\u001b[0m\u001b[0;36m30\u001b[0m\u001b[0;34m,\u001b[0m \u001b[0mvalidation_data\u001b[0m\u001b[0;34m=\u001b[0m\u001b[0;34m(\u001b[0m\u001b[0mtest_x\u001b[0m\u001b[0;34m,\u001b[0m \u001b[0mtest_y\u001b[0m\u001b[0;34m)\u001b[0m\u001b[0;34m,\u001b[0m \u001b[0mcallbacks\u001b[0m\u001b[0;34m=\u001b[0m\u001b[0mcallbacks\u001b[0m\u001b[0;34m)\u001b[0m\u001b[0;34m\u001b[0m\u001b[0;34m\u001b[0m\u001b[0m\n\u001b[0m",
      "\u001b[0;32m~/.local/lib/python3.6/site-packages/keras/engine/training.py\u001b[0m in \u001b[0;36mfit\u001b[0;34m(self, x, y, batch_size, epochs, verbose, callbacks, validation_split, validation_data, shuffle, class_weight, sample_weight, initial_epoch, steps_per_epoch, validation_steps, **kwargs)\u001b[0m\n\u001b[1;32m   1037\u001b[0m                                         \u001b[0minitial_epoch\u001b[0m\u001b[0;34m=\u001b[0m\u001b[0minitial_epoch\u001b[0m\u001b[0;34m,\u001b[0m\u001b[0;34m\u001b[0m\u001b[0;34m\u001b[0m\u001b[0m\n\u001b[1;32m   1038\u001b[0m                                         \u001b[0msteps_per_epoch\u001b[0m\u001b[0;34m=\u001b[0m\u001b[0msteps_per_epoch\u001b[0m\u001b[0;34m,\u001b[0m\u001b[0;34m\u001b[0m\u001b[0;34m\u001b[0m\u001b[0m\n\u001b[0;32m-> 1039\u001b[0;31m                                         validation_steps=validation_steps)\n\u001b[0m\u001b[1;32m   1040\u001b[0m \u001b[0;34m\u001b[0m\u001b[0m\n\u001b[1;32m   1041\u001b[0m     def evaluate(self, x=None, y=None,\n",
      "\u001b[0;32m~/.local/lib/python3.6/site-packages/keras/engine/training_arrays.py\u001b[0m in \u001b[0;36mfit_loop\u001b[0;34m(model, f, ins, out_labels, batch_size, epochs, verbose, callbacks, val_f, val_ins, shuffle, callback_metrics, initial_epoch, steps_per_epoch, validation_steps)\u001b[0m\n\u001b[1;32m    197\u001b[0m                     \u001b[0mins_batch\u001b[0m\u001b[0;34m[\u001b[0m\u001b[0mi\u001b[0m\u001b[0;34m]\u001b[0m \u001b[0;34m=\u001b[0m \u001b[0mins_batch\u001b[0m\u001b[0;34m[\u001b[0m\u001b[0mi\u001b[0m\u001b[0;34m]\u001b[0m\u001b[0;34m.\u001b[0m\u001b[0mtoarray\u001b[0m\u001b[0;34m(\u001b[0m\u001b[0;34m)\u001b[0m\u001b[0;34m\u001b[0m\u001b[0;34m\u001b[0m\u001b[0m\n\u001b[1;32m    198\u001b[0m \u001b[0;34m\u001b[0m\u001b[0m\n\u001b[0;32m--> 199\u001b[0;31m                 \u001b[0mouts\u001b[0m \u001b[0;34m=\u001b[0m \u001b[0mf\u001b[0m\u001b[0;34m(\u001b[0m\u001b[0mins_batch\u001b[0m\u001b[0;34m)\u001b[0m\u001b[0;34m\u001b[0m\u001b[0;34m\u001b[0m\u001b[0m\n\u001b[0m\u001b[1;32m    200\u001b[0m                 \u001b[0mouts\u001b[0m \u001b[0;34m=\u001b[0m \u001b[0mto_list\u001b[0m\u001b[0;34m(\u001b[0m\u001b[0mouts\u001b[0m\u001b[0;34m)\u001b[0m\u001b[0;34m\u001b[0m\u001b[0;34m\u001b[0m\u001b[0m\n\u001b[1;32m    201\u001b[0m                 \u001b[0;32mfor\u001b[0m \u001b[0ml\u001b[0m\u001b[0;34m,\u001b[0m \u001b[0mo\u001b[0m \u001b[0;32min\u001b[0m \u001b[0mzip\u001b[0m\u001b[0;34m(\u001b[0m\u001b[0mout_labels\u001b[0m\u001b[0;34m,\u001b[0m \u001b[0mouts\u001b[0m\u001b[0;34m)\u001b[0m\u001b[0;34m:\u001b[0m\u001b[0;34m\u001b[0m\u001b[0;34m\u001b[0m\u001b[0m\n",
      "\u001b[0;32m~/.local/lib/python3.6/site-packages/keras/backend/tensorflow_backend.py\u001b[0m in \u001b[0;36m__call__\u001b[0;34m(self, inputs)\u001b[0m\n\u001b[1;32m   2713\u001b[0m                 \u001b[0;32mreturn\u001b[0m \u001b[0mself\u001b[0m\u001b[0;34m.\u001b[0m\u001b[0m_legacy_call\u001b[0m\u001b[0;34m(\u001b[0m\u001b[0minputs\u001b[0m\u001b[0;34m)\u001b[0m\u001b[0;34m\u001b[0m\u001b[0;34m\u001b[0m\u001b[0m\n\u001b[1;32m   2714\u001b[0m \u001b[0;34m\u001b[0m\u001b[0m\n\u001b[0;32m-> 2715\u001b[0;31m             \u001b[0;32mreturn\u001b[0m \u001b[0mself\u001b[0m\u001b[0;34m.\u001b[0m\u001b[0m_call\u001b[0m\u001b[0;34m(\u001b[0m\u001b[0minputs\u001b[0m\u001b[0;34m)\u001b[0m\u001b[0;34m\u001b[0m\u001b[0;34m\u001b[0m\u001b[0m\n\u001b[0m\u001b[1;32m   2716\u001b[0m         \u001b[0;32melse\u001b[0m\u001b[0;34m:\u001b[0m\u001b[0;34m\u001b[0m\u001b[0;34m\u001b[0m\u001b[0m\n\u001b[1;32m   2717\u001b[0m             \u001b[0;32mif\u001b[0m \u001b[0mpy_any\u001b[0m\u001b[0;34m(\u001b[0m\u001b[0mis_tensor\u001b[0m\u001b[0;34m(\u001b[0m\u001b[0mx\u001b[0m\u001b[0;34m)\u001b[0m \u001b[0;32mfor\u001b[0m \u001b[0mx\u001b[0m \u001b[0;32min\u001b[0m \u001b[0minputs\u001b[0m\u001b[0;34m)\u001b[0m\u001b[0;34m:\u001b[0m\u001b[0;34m\u001b[0m\u001b[0;34m\u001b[0m\u001b[0m\n",
      "\u001b[0;32m~/.local/lib/python3.6/site-packages/keras/backend/tensorflow_backend.py\u001b[0m in \u001b[0;36m_call\u001b[0;34m(self, inputs)\u001b[0m\n\u001b[1;32m   2673\u001b[0m             \u001b[0mfetched\u001b[0m \u001b[0;34m=\u001b[0m \u001b[0mself\u001b[0m\u001b[0;34m.\u001b[0m\u001b[0m_callable_fn\u001b[0m\u001b[0;34m(\u001b[0m\u001b[0;34m*\u001b[0m\u001b[0marray_vals\u001b[0m\u001b[0;34m,\u001b[0m \u001b[0mrun_metadata\u001b[0m\u001b[0;34m=\u001b[0m\u001b[0mself\u001b[0m\u001b[0;34m.\u001b[0m\u001b[0mrun_metadata\u001b[0m\u001b[0;34m)\u001b[0m\u001b[0;34m\u001b[0m\u001b[0;34m\u001b[0m\u001b[0m\n\u001b[1;32m   2674\u001b[0m         \u001b[0;32melse\u001b[0m\u001b[0;34m:\u001b[0m\u001b[0;34m\u001b[0m\u001b[0;34m\u001b[0m\u001b[0m\n\u001b[0;32m-> 2675\u001b[0;31m             \u001b[0mfetched\u001b[0m \u001b[0;34m=\u001b[0m \u001b[0mself\u001b[0m\u001b[0;34m.\u001b[0m\u001b[0m_callable_fn\u001b[0m\u001b[0;34m(\u001b[0m\u001b[0;34m*\u001b[0m\u001b[0marray_vals\u001b[0m\u001b[0;34m)\u001b[0m\u001b[0;34m\u001b[0m\u001b[0;34m\u001b[0m\u001b[0m\n\u001b[0m\u001b[1;32m   2676\u001b[0m         \u001b[0;32mreturn\u001b[0m \u001b[0mfetched\u001b[0m\u001b[0;34m[\u001b[0m\u001b[0;34m:\u001b[0m\u001b[0mlen\u001b[0m\u001b[0;34m(\u001b[0m\u001b[0mself\u001b[0m\u001b[0;34m.\u001b[0m\u001b[0moutputs\u001b[0m\u001b[0;34m)\u001b[0m\u001b[0;34m]\u001b[0m\u001b[0;34m\u001b[0m\u001b[0;34m\u001b[0m\u001b[0m\n\u001b[1;32m   2677\u001b[0m \u001b[0;34m\u001b[0m\u001b[0m\n",
      "\u001b[0;32m/usr/local/lib/python3.6/dist-packages/tensorflow/python/client/session.py\u001b[0m in \u001b[0;36m__call__\u001b[0;34m(self, *args, **kwargs)\u001b[0m\n\u001b[1;32m   1456\u001b[0m         ret = tf_session.TF_SessionRunCallable(self._session._session,\n\u001b[1;32m   1457\u001b[0m                                                \u001b[0mself\u001b[0m\u001b[0;34m.\u001b[0m\u001b[0m_handle\u001b[0m\u001b[0;34m,\u001b[0m \u001b[0margs\u001b[0m\u001b[0;34m,\u001b[0m\u001b[0;34m\u001b[0m\u001b[0;34m\u001b[0m\u001b[0m\n\u001b[0;32m-> 1458\u001b[0;31m                                                run_metadata_ptr)\n\u001b[0m\u001b[1;32m   1459\u001b[0m         \u001b[0;32mif\u001b[0m \u001b[0mrun_metadata\u001b[0m\u001b[0;34m:\u001b[0m\u001b[0;34m\u001b[0m\u001b[0;34m\u001b[0m\u001b[0m\n\u001b[1;32m   1460\u001b[0m           \u001b[0mproto_data\u001b[0m \u001b[0;34m=\u001b[0m \u001b[0mtf_session\u001b[0m\u001b[0;34m.\u001b[0m\u001b[0mTF_GetBuffer\u001b[0m\u001b[0;34m(\u001b[0m\u001b[0mrun_metadata_ptr\u001b[0m\u001b[0;34m)\u001b[0m\u001b[0;34m\u001b[0m\u001b[0;34m\u001b[0m\u001b[0m\n",
      "\u001b[0;31mKeyboardInterrupt\u001b[0m: "
     ]
    }
   ],
   "source": [
    "callbacks = [\n",
    "    ReduceLROnPlateau(factor=0.2, patience=5, mode='min'),\n",
    "    ModelCheckpoint('classifier_100_features_{val_loss:.2f}.model', save_best_only=True, mode='min')\n",
    "]\n",
    "\n",
    "model.compile(optimizer=Adam(lr=0.0001), loss='categorical_crossentropy', metrics=['acc'])\n",
    "history = model.fit(train_x, train_y, batch_size=128, epochs=30, validation_data=(test_x, test_y), callbacks=callbacks)"
   ]
  },
  {
   "cell_type": "code",
   "execution_count": null,
   "metadata": {},
   "outputs": [],
   "source": [
    "_ = plt.figure(figsize=(5, 5))\n",
    "\n",
    "plt.plot(history.history['acc'])\n",
    "plt.plot(history.history['val_acc'])\n",
    "\n",
    "plt.title('Model Accuracy')\n",
    "plt.ylabel('Accuracy')\n",
    "plt.xlabel('Epoch')\n",
    "plt.legend(['Train', 'Test'], loc='upper left')\n",
    "\n",
    "plt.show()"
   ]
  },
  {
   "cell_type": "code",
   "execution_count": null,
   "metadata": {},
   "outputs": [],
   "source": [
    "_ = plt.figure(figsize=(5, 5))\n",
    "\n",
    "plt.plot(history.history['loss'])\n",
    "plt.plot(history.history['val_loss'])\n",
    "\n",
    "plt.title('Model loss')\n",
    "plt.ylabel('Loss')\n",
    "plt.xlabel('Epoch')\n",
    "plt.legend(['Train', 'Test'], loc='upper left')\n",
    "\n",
    "plt.show()"
   ]
  },
  {
   "cell_type": "code",
   "execution_count": 105,
   "metadata": {},
   "outputs": [
    {
     "name": "stdout",
     "output_type": "stream",
     "text": [
      "0.9515469935785171\n",
      "0.8876855887477707\n"
     ]
    },
    {
     "data": {
      "image/png": "[encoded data removed]",
      "text/plain": [
       "<Figure size 720x720 with 2 Axes>"
      ]
     },
     "metadata": {
      "needs_background": "light"
     },
     "output_type": "display_data"
    }
   ],
   "source": [
    "# since it's multiclass classification task\n",
    "# for evaluating f1 score with averaging by micro and macro was choosen\n",
    "from keras.models import load_model\n",
    "model = load_model('classifier_100_features.model')\n",
    "\n",
    "\n",
    "y_pred = model.predict(test_x)\n",
    "\n",
    "print(f1_score(np.argmax(test_y, axis=1), np.argmax(y_pred, axis=1), average='micro'))\n",
    "print(f1_score(np.argmax(test_y, axis=1), np.argmax(y_pred, axis=1), average='macro'))\n",
    "\n",
    "cm = confusion_matrix(np.argmax(test_y, axis=1), np.argmax(y_pred, axis=1))\n",
    "\n",
    "_ = plt.figure(figsize=(10 ,10))\n",
    "sns.heatmap(cm, xticklabels=range(1, 22), yticklabels=range(1, 22))\n",
    "plt.ylabel('Actual')\n",
    "plt.xlabel('Predicted')\n",
    "plt.show()"
   ]
  },
  {
   "cell_type": "markdown",
   "metadata": {},
   "source": [
    "### Making submission"
   ]
  },
  {
   "cell_type": "code",
   "execution_count": 106,
   "metadata": {},
   "outputs": [],
   "source": [
    "probabilities = np.max(y_pred, axis=1)\n",
    "label_index = encoder.inverse_transform(y_pred)\n",
    "\n",
    "submission = pd.DataFrame(test_indices, columns=['id'])\n",
    "submission['prediction'] = label_index\n",
    "submission['pobabilities'] = probabilities\n",
    "submission.sort_values(by='id', inplace=True)\n",
    "\n",
    "data_file = 'test_task_DS.xlsx'\n",
    "df = pd.read_excel(data_file)\n",
    "df.drop(['Unnamed: 0', 'our_category', 'initcat'], axis=1, inplace=True)\n",
    "df = df[df['id'].isin(test_indices)].sort_values(by='id')\n",
    "df = df.join(submission.set_index('id'), on='id')\n",
    "\n",
    "df.to_csv('submission.csv')"
   ]
  }
 ],
 "metadata": {
  "kernelspec": {
   "display_name": "Python 3",
   "language": "python",
   "name": "python3"
  },
  "language_info": {
   "codemirror_mode": {
    "name": "ipython",
    "version": 3
   },
   "file_extension": ".py",
   "mimetype": "text/x-python",
   "name": "python",
   "nbconvert_exporter": "python",
   "pygments_lexer": "ipython3",
   "version": "3.6.7"
  }
 },
 "nbformat": 4,
 "nbformat_minor": 2
}
